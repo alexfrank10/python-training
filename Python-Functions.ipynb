{
 "cells": [
  {
   "cell_type": "markdown",
   "id": "bf328290",
   "metadata": {},
   "source": [
    "#### Syntax"
   ]
  },
  {
   "cell_type": "code",
   "execution_count": 3,
   "id": "0c1969a1",
   "metadata": {},
   "outputs": [],
   "source": [
    "def function_name(params):\n",
    "    statements\n",
    "    \n",
    "    return expression"
   ]
  },
  {
   "cell_type": "markdown",
   "id": "d5e688df",
   "metadata": {},
   "source": [
    "#### Function without argument"
   ]
  },
  {
   "cell_type": "code",
   "execution_count": 16,
   "id": "e58b1e89",
   "metadata": {},
   "outputs": [],
   "source": [
    "def hello():\n",
    "    print(\"Hello\")"
   ]
  },
  {
   "cell_type": "code",
   "execution_count": 17,
   "id": "5ec26e0a",
   "metadata": {},
   "outputs": [
    {
     "name": "stdout",
     "output_type": "stream",
     "text": [
      "Hello\n"
     ]
    }
   ],
   "source": [
    "hello()"
   ]
  },
  {
   "cell_type": "markdown",
   "id": "363795a2",
   "metadata": {},
   "source": [
    "#### Passing arguments to the function"
   ]
  },
  {
   "cell_type": "code",
   "execution_count": 18,
   "id": "6ac780fa",
   "metadata": {},
   "outputs": [],
   "source": [
    "# Simplr function to calculate a perimeter of rectangle\n",
    "def perimeter(longueur, largeur):\n",
    "    perimeter = longueur + largeur\n",
    "    \n",
    "    return perimeter"
   ]
  },
  {
   "cell_type": "markdown",
   "id": "deafa30b",
   "metadata": {},
   "source": [
    "You call a function by its name followed by a parenthesis containing parameter"
   ]
  },
  {
   "cell_type": "code",
   "execution_count": 19,
   "id": "76277bbb",
   "metadata": {},
   "outputs": [],
   "source": [
    "p = perimeter(10, 7)"
   ]
  },
  {
   "cell_type": "code",
   "execution_count": 20,
   "id": "cc038bd9",
   "metadata": {},
   "outputs": [],
   "source": [
    "def area(l, L):\n",
    "    area = (l+L)*2\n",
    "    print(area)"
   ]
  },
  {
   "cell_type": "code",
   "execution_count": 21,
   "id": "fc9bede3",
   "metadata": {},
   "outputs": [
    {
     "name": "stdout",
     "output_type": "stream",
     "text": [
      "22\n"
     ]
    }
   ],
   "source": [
    "area = area(2, 9)"
   ]
  },
  {
   "cell_type": "markdown",
   "id": "2a9ce9a2",
   "metadata": {},
   "source": [
    "print : display the value on the screen\n",
    "return : allow us to exit from the function"
   ]
  },
  {
   "cell_type": "code",
   "execution_count": 22,
   "id": "9ce93bde",
   "metadata": {},
   "outputs": [],
   "source": [
    "# Funtion to check if x is even or odd\n",
    "def evenOrOdd(x):\n",
    "    if x%2 == 0:\n",
    "        print(\"X is even\")\n",
    "    else:\n",
    "        print(\"X is odd\")"
   ]
  },
  {
   "cell_type": "code",
   "execution_count": 23,
   "id": "ec86711f",
   "metadata": {},
   "outputs": [
    {
     "name": "stdout",
     "output_type": "stream",
     "text": [
      "X is odd\n",
      "X is even\n"
     ]
    }
   ],
   "source": [
    "evenOrOdd(3)\n",
    "evenOrOdd(6)"
   ]
  },
  {
   "cell_type": "markdown",
   "id": "6c3f1b8c",
   "metadata": {},
   "source": [
    "#### Python assume default argument, that is the parametr that assumes a default value if value is not pricided in the function call for that argument"
   ]
  },
  {
   "cell_type": "code",
   "execution_count": 24,
   "id": "752859ad",
   "metadata": {},
   "outputs": [],
   "source": [
    "def prod(x, y=2):\n",
    "    produit = x*y\n",
    "    \n",
    "    return produit"
   ]
  },
  {
   "cell_type": "code",
   "execution_count": 25,
   "id": "c1beeef6",
   "metadata": {},
   "outputs": [
    {
     "data": {
      "text/plain": [
       "10"
      ]
     },
     "execution_count": 25,
     "metadata": {},
     "output_type": "execute_result"
    }
   ],
   "source": [
    "prod(5)"
   ]
  },
  {
   "cell_type": "markdown",
   "id": "cf57cd95",
   "metadata": {},
   "source": [
    "Like C++ default arguments, any number of arguments in a function can have a default value. But once we have a default argument, all the arguments to its right must also have default values."
   ]
  },
  {
   "cell_type": "code",
   "execution_count": 28,
   "id": "de70f565",
   "metadata": {},
   "outputs": [
    {
     "ename": "SyntaxError",
     "evalue": "non-default argument follows default argument (Temp/ipykernel_18828/3998237417.py, line 1)",
     "output_type": "error",
     "traceback": [
      "\u001b[1;36m  File \u001b[1;32m\"C:\\Users\\ALEXFR~1\\AppData\\Local\\Temp/ipykernel_18828/3998237417.py\"\u001b[1;36m, line \u001b[1;32m1\u001b[0m\n\u001b[1;33m    def prod(x, y=2, z):\u001b[0m\n\u001b[1;37m             ^\u001b[0m\n\u001b[1;31mSyntaxError\u001b[0m\u001b[1;31m:\u001b[0m non-default argument follows default argument\n"
     ]
    }
   ],
   "source": [
    "def prod(x, y=2, z):\n",
    "    produit = x*y*z\n",
    "    \n",
    "    return produit"
   ]
  },
  {
   "cell_type": "code",
   "execution_count": 29,
   "id": "8e6565c4",
   "metadata": {},
   "outputs": [],
   "source": [
    "def prod(x, y=2, z=1):\n",
    "    produit = x*y*z\n",
    "    \n",
    "    return produit"
   ]
  },
  {
   "cell_type": "markdown",
   "id": "1c75a3c0",
   "metadata": {},
   "source": [
    "#### *args and **kwargs in Python\n",
    "\n",
    "We use the “wildcard” or “* ” notation like this – *args OR **kwargs – as our function’s argument when we have doubts about the number of  arguments we should pass in a function."
   ]
  },
  {
   "cell_type": "markdown",
   "id": "b4b8401a",
   "metadata": {},
   "source": [
    "#### Non Keyword Arguments"
   ]
  },
  {
   "cell_type": "code",
   "execution_count": 34,
   "id": "d83fb301",
   "metadata": {},
   "outputs": [],
   "source": [
    "def nonKeywordArg(*args):\n",
    "    print(args)"
   ]
  },
  {
   "cell_type": "code",
   "execution_count": 35,
   "id": "2d9e370b",
   "metadata": {},
   "outputs": [
    {
     "name": "stdout",
     "output_type": "stream",
     "text": [
      "('Alex', 'is', 'the', 'best')\n"
     ]
    }
   ],
   "source": [
    "nonKeywordArg(\"Alex\", \"is\", \"the\", \"best\")"
   ]
  },
  {
   "cell_type": "code",
   "execution_count": 38,
   "id": "17e666a7",
   "metadata": {},
   "outputs": [],
   "source": [
    "def nonKeywordArg(*argv):\n",
    "    sum = 0\n",
    "    for arg in argv:\n",
    "        sum += arg\n",
    "    return sum"
   ]
  },
  {
   "cell_type": "code",
   "execution_count": 40,
   "id": "8c16e860",
   "metadata": {},
   "outputs": [
    {
     "data": {
      "text/plain": [
       "6"
      ]
     },
     "execution_count": 40,
     "metadata": {},
     "output_type": "execute_result"
    }
   ],
   "source": [
    "nonKeywordArg(1, 2, 3)"
   ]
  },
  {
   "cell_type": "markdown",
   "id": "eba48d99",
   "metadata": {},
   "source": [
    "#### Keyword Arguments"
   ]
  },
  {
   "cell_type": "code",
   "execution_count": 50,
   "id": "1e1046da",
   "metadata": {},
   "outputs": [],
   "source": [
    "def swap(**kwargs):\n",
    "    \n",
    "    for key, value in kwargs.items():\n",
    "        print(key,value)\n",
    "    \n",
    "    return kwargs"
   ]
  },
  {
   "cell_type": "code",
   "execution_count": 53,
   "id": "d5e5c9ee",
   "metadata": {},
   "outputs": [
    {
     "name": "stdout",
     "output_type": "stream",
     "text": [
      "alex 1\n"
     ]
    },
    {
     "data": {
      "text/plain": [
       "{'alex': 1}"
      ]
     },
     "execution_count": 53,
     "metadata": {},
     "output_type": "execute_result"
    }
   ],
   "source": [
    "swap(alex= 1)"
   ]
  },
  {
   "cell_type": "markdown",
   "id": "f8c74008",
   "metadata": {},
   "source": [
    "### Anonymous function: lambda"
   ]
  },
  {
   "cell_type": "markdown",
   "id": "ad0348d7",
   "metadata": {},
   "source": [
    "#### Syntax\n",
    "\n",
    "lambda arguments : expression "
   ]
  },
  {
   "cell_type": "code",
   "execution_count": 54,
   "id": "290ce1bc",
   "metadata": {},
   "outputs": [],
   "source": [
    "def cube(x): return x*x*x"
   ]
  },
  {
   "cell_type": "code",
   "execution_count": 57,
   "id": "0f9583c1",
   "metadata": {},
   "outputs": [],
   "source": [
    "cube_v2 = lambda x: x*x*x"
   ]
  },
  {
   "cell_type": "code",
   "execution_count": 58,
   "id": "f5806b0c",
   "metadata": {},
   "outputs": [
    {
     "data": {
      "text/plain": [
       "27"
      ]
     },
     "execution_count": 58,
     "metadata": {},
     "output_type": "execute_result"
    }
   ],
   "source": [
    "cube(3)"
   ]
  },
  {
   "cell_type": "code",
   "execution_count": 59,
   "id": "f018d665",
   "metadata": {},
   "outputs": [
    {
     "data": {
      "text/plain": [
       "27"
      ]
     },
     "execution_count": 59,
     "metadata": {},
     "output_type": "execute_result"
    }
   ],
   "source": [
    "cube_v2(3)"
   ]
  },
  {
   "cell_type": "code",
   "execution_count": 60,
   "id": "3c083e02",
   "metadata": {},
   "outputs": [],
   "source": [
    "import math\n",
    "theta = lambda r: 2*math.pi*r**2"
   ]
  },
  {
   "cell_type": "code",
   "execution_count": 61,
   "id": "d950351c",
   "metadata": {},
   "outputs": [
    {
     "data": {
      "text/plain": [
       "6.283185307179586"
      ]
     },
     "execution_count": 61,
     "metadata": {},
     "output_type": "execute_result"
    }
   ],
   "source": [
    "theta(1)"
   ]
  },
  {
   "cell_type": "code",
   "execution_count": null,
   "id": "c780da5a",
   "metadata": {},
   "outputs": [],
   "source": []
  }
 ],
 "metadata": {
  "kernelspec": {
   "display_name": "Python 3 (ipykernel)",
   "language": "python",
   "name": "python3"
  },
  "language_info": {
   "codemirror_mode": {
    "name": "ipython",
    "version": 3
   },
   "file_extension": ".py",
   "mimetype": "text/x-python",
   "name": "python",
   "nbconvert_exporter": "python",
   "pygments_lexer": "ipython3",
   "version": "3.8.8"
  }
 },
 "nbformat": 4,
 "nbformat_minor": 5
}
